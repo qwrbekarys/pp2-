{
 "cells": [
  {
   "cell_type": "code",
   "execution_count": 1,
   "metadata": {},
   "outputs": [
    {
     "name": "stdout",
     "output_type": "stream",
     "text": [
      "Match found: 'a'\n",
      "Match found: 'ab'\n",
      "Match found: 'abb'\n",
      "Match found: 'abbb'\n",
      "No match: 'b'\n",
      "No match: 'ba'\n",
      "No match: 'abc'\n",
      "No match: 'aab'\n",
      "No match: 'aabb'\n"
     ]
    }
   ],
   "source": [
    "import re\n",
    "\n",
    "pattern = r\"ab*\"\n",
    "\n",
    "def match_string(text):\n",
    "    if re.fullmatch(pattern, text):\n",
    "        print(f\"Match found: '{text}'\")\n",
    "    else:\n",
    "        print(f\"No match: '{text}'\")\n",
    "\n",
    "test_strings = [\"a\", \"ab\", \"abb\", \"abbb\", \"b\", \"ba\", \"abc\", \"aab\", \"aabb\"]\n",
    "for text in test_strings:\n",
    "    match_string(text)\n"
   ]
  },
  {
   "cell_type": "code",
   "execution_count": 2,
   "metadata": {},
   "outputs": [
    {
     "name": "stdout",
     "output_type": "stream",
     "text": [
      "No match: 'abb'\n",
      "Match found: 'abbb'\n",
      "No match: 'a'\n",
      "No match: 'ab'\n",
      "Match found: 'abbbb'\n",
      "No match: 'abc'\n",
      "No match: 'abbc'\n",
      "No match: 'ba'\n",
      "No match: 'abb '\n"
     ]
    }
   ],
   "source": [
    "import re\n",
    "\n",
    "pattern = r\"abb{2,3}$\"\n",
    "\n",
    "def match_string(text):\n",
    "    if re.fullmatch(pattern, text):\n",
    "        print(f\"Match found: '{text}'\")\n",
    "    else:\n",
    "        print(f\"No match: '{text}'\")\n",
    "\n",
    "test_strings = [\"abb\", \"abbb\", \"a\", \"ab\", \"abbbb\", \"abc\", \"abbc\", \"ba\", \"abb \"]\n",
    "\n",
    "for text in test_strings:\n",
    "    match_string(text)\n"
   ]
  },
  {
   "cell_type": "code",
   "execution_count": 3,
   "metadata": {},
   "outputs": [
    {
     "name": "stdout",
     "output_type": "stream",
     "text": [
      "No match: hello world\n",
      "Match found: hello_kbtu\n",
      "No match: HELLO_KBTU\n"
     ]
    }
   ],
   "source": [
    "pattern = r\"[a-z]+_[a-z]+\"\n",
    "\n",
    "def find_sequences(text):\n",
    "    matches = re.findall(pattern,text)\n",
    "    if matches :\n",
    "        print(f\"Match found: {text}\")\n",
    "    else :\n",
    "        print(f\"No match: {text}\")\n",
    "\n",
    "words = [\n",
    "    \"hello world\",\n",
    "    \"hello_kbtu\",\n",
    "    \"HELLO_KBTU\"\n",
    "    ]\n",
    "\n",
    "for word in words:\n",
    "    find_sequences(word)"
   ]
  },
  {
   "cell_type": "code",
   "execution_count": 6,
   "metadata": {},
   "outputs": [
    {
     "name": "stdout",
     "output_type": "stream",
     "text": [
      "match found ['Hello', 'World']\n",
      "match found ['Lowercase']\n",
      "match found ['Java']\n"
     ]
    }
   ],
   "source": [
    "import re\n",
    "pattern = r\"[A-Z][a-z]+\"\n",
    "\n",
    "def find_sequences(text):\n",
    "    matches = re.findall(pattern , text)\n",
    "    if matches:\n",
    "        print(f\"match found {matches}\")\n",
    "    else:\n",
    "        print(\"not found\")\n",
    "\n",
    "texts = [\n",
    "    \"Hello World\",    \n",
    "    \"aLowercase\" ,\n",
    "    \"Java\"\n",
    "]\n",
    "for text in texts:\n",
    "    find_sequences(text)\n",
    "        "
   ]
  },
  {
   "cell_type": "code",
   "execution_count": 8,
   "metadata": {},
   "outputs": [
    {
     "name": "stdout",
     "output_type": "stream",
     "text": [
      "match found : <re.Match object; span=(0, 5), match='a123b'>\n",
      "match found : <re.Match object; span=(0, 11), match='akjdfhiorfb'>\n",
      "match found : <re.Match object; span=(0, 7), match='aKBTUnb'>\n",
      "not found\n",
      "not found\n"
     ]
    }
   ],
   "source": [
    "import re\n",
    "\n",
    "pattern = r\"a.*b$\"\n",
    "\n",
    "def find_pattern(text):\n",
    "    matches = re.fullmatch(pattern,text)\n",
    "    if matches:\n",
    "        print(f\"match found : {matches}\")\n",
    "    else:\n",
    "        print(\"not found\")\n",
    "texts = [\n",
    "    \"a123b\",\n",
    "    \"akjdfhiorfb\",\n",
    "    \"aKBTUnb\",\n",
    "    \"a123\",\n",
    "    \"acc\"\n",
    "]\n",
    "for x in texts:\n",
    "    find_pattern(x)"
   ]
  },
  {
   "cell_type": "code",
   "execution_count": 11,
   "metadata": {},
   "outputs": [
    {
     "name": "stdout",
     "output_type": "stream",
     "text": [
      "Original: Hello world\n",
      "Modified: Hello:world\n",
      "\n",
      "Original: Hello,  world\n",
      "Modified: Hello:::world\n",
      "\n",
      "Original: Kbtu.official\n",
      "Modified: Kbtu:official\n",
      "\n",
      "Original: a,b,c,d\n",
      "Modified: a:b:c:d\n",
      "\n"
     ]
    }
   ],
   "source": [
    "import re\n",
    "\n",
    "pattern = r\"[ ,.]\"\n",
    "\n",
    "def replace_chars(text):\n",
    "    return re.sub(pattern,\":\",text)\n",
    "\n",
    "texts1 = [\n",
    "    \"Hello world\",\n",
    "    \"Hello,  world\",\n",
    "    \"Kbtu.official\",\n",
    "    \"a,b,c,d\"\n",
    "]\n",
    "\n",
    "for x in texts1:\n",
    "    print(f\"Original: {x}\")\n",
    "    print(f\"Modified: {replace_chars(x)}\\n\")"
   ]
  },
  {
   "cell_type": "code",
   "execution_count": 5,
   "metadata": {},
   "outputs": [
    {
     "name": "stdout",
     "output_type": "stream",
     "text": [
      "helloWorldExample\n"
     ]
    }
   ],
   "source": [
    "def snake_to_camel(snake_str):\n",
    "    components = snake_str.split('_')\n",
    "    return components[0] + ''.join(x.capitalize() for x in components[1:])\n",
    "\n",
    "snake_str = \"hello_world_example\"\n",
    "camel_str = snake_to_camel(snake_str)\n",
    "print(camel_str)  \n"
   ]
  },
  {
   "cell_type": "code",
   "execution_count": 6,
   "metadata": {},
   "outputs": [
    {
     "name": "stdout",
     "output_type": "stream",
     "text": [
      "['Hello', 'World', 'This', 'Is', 'Python']\n"
     ]
    }
   ],
   "source": [
    "import re\n",
    "\n",
    "def split_at_uppercase(s):\n",
    "    return re.findall(r'[A-Z][^A-Z]*', s)\n",
    "\n",
    "string = \"HelloWorldThisIsPython\"\n",
    "result = split_at_uppercase(string)\n",
    "print(result)\n"
   ]
  },
  {
   "cell_type": "code",
   "execution_count": 7,
   "metadata": {},
   "outputs": [
    {
     "name": "stdout",
     "output_type": "stream",
     "text": [
      "Hello World This Is Python\n"
     ]
    }
   ],
   "source": [
    "import re\n",
    "\n",
    "def insert_spaces(s):\n",
    "    return re.sub(r'([a-z])([A-Z])', r'\\1 \\2', s)\n",
    "\n",
    "string = \"HelloWorldThisIsPython\"\n",
    "result = insert_spaces(string)\n",
    "print(result)\n"
   ]
  },
  {
   "cell_type": "code",
   "execution_count": 8,
   "metadata": {},
   "outputs": [
    {
     "name": "stdout",
     "output_type": "stream",
     "text": [
      "hello_world_this_is_python\n"
     ]
    }
   ],
   "source": [
    "import re\n",
    "\n",
    "def camel_to_snake(s):\n",
    "    return re.sub(r'([a-z])([A-Z])', r'\\1_\\2', s).lower()\n",
    "\n",
    "camel_case_string = \"helloWorldThisIsPython\"\n",
    "snake_case_string = camel_to_snake(camel_case_string)\n",
    "print(snake_case_string)\n"
   ]
  }
 ],
 "metadata": {
  "kernelspec": {
   "display_name": "Python 3",
   "language": "python",
   "name": "python3"
  },
  "language_info": {
   "codemirror_mode": {
    "name": "ipython",
    "version": 3
   },
   "file_extension": ".py",
   "mimetype": "text/x-python",
   "name": "python",
   "nbconvert_exporter": "python",
   "pygments_lexer": "ipython3",
   "version": "3.11.7"
  }
 },
 "nbformat": 4,
 "nbformat_minor": 2
}
