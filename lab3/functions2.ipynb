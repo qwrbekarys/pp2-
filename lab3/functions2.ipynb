{
 "cells": [
  {
   "cell_type": "code",
   "execution_count": 2,
   "metadata": {},
   "outputs": [],
   "source": [
    "movies = [\n",
    "{\n",
    "\"name\": \"Usual Suspects\", \n",
    "\"imdb\": 7.0,\n",
    "\"category\": \"Thriller\"\n",
    "},\n",
    "{\n",
    "\"name\": \"Hitman\",\n",
    "\"imdb\": 6.3,\n",
    "\"category\": \"Action\"\n",
    "},\n",
    "{\n",
    "\"name\": \"Dark Knight\",\n",
    "\"imdb\": 9.0,\n",
    "\"category\": \"Adventure\"\n",
    "},\n",
    "{\n",
    "\"name\": \"The Help\",\n",
    "\"imdb\": 8.0,\n",
    "\"category\": \"Drama\"\n",
    "},\n",
    "{\n",
    "\"name\": \"The Choice\",\n",
    "\"imdb\": 6.2,\n",
    "\"category\": \"Romance\"\n",
    "},\n",
    "{\n",
    "\"name\": \"Colonia\",\n",
    "\"imdb\": 7.4,\n",
    "\"category\": \"Romance\"\n",
    "},\n",
    "{\n",
    "\"name\": \"Love\",\n",
    "\"imdb\": 6.0,\n",
    "\"category\": \"Romance\"\n",
    "},\n",
    "{\n",
    "\"name\": \"Bride Wars\",\n",
    "\"imdb\": 5.4,\n",
    "\"category\": \"Romance\"\n",
    "},\n",
    "{\n",
    "\"name\": \"AlphaJet\",\n",
    "\"imdb\": 3.2,\n",
    "\"category\": \"War\"\n",
    "},\n",
    "{\n",
    "\"name\": \"Ringing Crime\",\n",
    "\"imdb\": 4.0,\n",
    "\"category\": \"Crime\"\n",
    "},\n",
    "{\n",
    "\"name\": \"Joking muck\",\n",
    "\"imdb\": 7.2,\n",
    "\"category\": \"Comedy\"\n",
    "},\n",
    "{\n",
    "\"name\": \"What is the name\",\n",
    "\"imdb\": 9.2,\n",
    "\"category\": \"Suspense\"\n",
    "},\n",
    "{\n",
    "\"name\": \"Detective\",\n",
    "\"imdb\": 7.0,\n",
    "\"category\": \"Suspense\"\n",
    "},\n",
    "{\n",
    "\"name\": \"Exam\",\n",
    "\"imdb\": 4.2,\n",
    "\"category\": \"Thriller\"\n",
    "},\n",
    "{\n",
    "\"name\": \"We Two\",\n",
    "\"imdb\": 7.2,\n",
    "\"category\": \"Romance\"\n",
    "}\n",
    "]"
   ]
  },
  {
   "cell_type": "code",
   "execution_count": 3,
   "metadata": {},
   "outputs": [
    {
     "data": {
      "text/plain": [
       "True"
      ]
     },
     "execution_count": 3,
     "metadata": {},
     "output_type": "execute_result"
    }
   ],
   "source": [
    "def is_highly_rated(movie):\n",
    "    return movie[\"imdb\"] > 5.5\n",
    "is_highly_rated(movies[1])"
   ]
  },
  {
   "cell_type": "code",
   "execution_count": 4,
   "metadata": {},
   "outputs": [
    {
     "data": {
      "text/plain": [
       "[{'name': 'Usual Suspects', 'imdb': 7.0, 'category': 'Thriller'},\n",
       " {'name': 'Hitman', 'imdb': 6.3, 'category': 'Action'},\n",
       " {'name': 'Dark Knight', 'imdb': 9.0, 'category': 'Adventure'},\n",
       " {'name': 'The Help', 'imdb': 8.0, 'category': 'Drama'},\n",
       " {'name': 'The Choice', 'imdb': 6.2, 'category': 'Romance'},\n",
       " {'name': 'Colonia', 'imdb': 7.4, 'category': 'Romance'},\n",
       " {'name': 'Love', 'imdb': 6.0, 'category': 'Romance'},\n",
       " {'name': 'Joking muck', 'imdb': 7.2, 'category': 'Comedy'},\n",
       " {'name': 'What is the name', 'imdb': 9.2, 'category': 'Suspense'},\n",
       " {'name': 'Detective', 'imdb': 7.0, 'category': 'Suspense'},\n",
       " {'name': 'We Two', 'imdb': 7.2, 'category': 'Romance'}]"
      ]
     },
     "execution_count": 4,
     "metadata": {},
     "output_type": "execute_result"
    }
   ],
   "source": [
    "def get_highly_rated_movies(movies):\n",
    "    return [movie for movie in movies if movie[\"imdb\"] > 5.5]\n",
    "get_highly_rated_movies(movies)"
   ]
  },
  {
   "cell_type": "code",
   "execution_count": 5,
   "metadata": {},
   "outputs": [
    {
     "data": {
      "text/plain": [
       "[{'name': 'The Choice', 'imdb': 6.2, 'category': 'Romance'},\n",
       " {'name': 'Colonia', 'imdb': 7.4, 'category': 'Romance'},\n",
       " {'name': 'Love', 'imdb': 6.0, 'category': 'Romance'},\n",
       " {'name': 'Bride Wars', 'imdb': 5.4, 'category': 'Romance'},\n",
       " {'name': 'We Two', 'imdb': 7.2, 'category': 'Romance'}]"
      ]
     },
     "execution_count": 5,
     "metadata": {},
     "output_type": "execute_result"
    }
   ],
   "source": [
    "def get_movies_by_category(movies, category):\n",
    "    return [movie for movie in movies if movie[\"category\"].lower() == category.lower()]\n",
    "get_movies_by_category(movies, \"Romance\")\n"
   ]
  },
  {
   "cell_type": "code",
   "execution_count": 6,
   "metadata": {},
   "outputs": [
    {
     "data": {
      "text/plain": [
       "6.486666666666667"
      ]
     },
     "execution_count": 6,
     "metadata": {},
     "output_type": "execute_result"
    }
   ],
   "source": [
    "def average_imdb(movies):\n",
    "    if not movies:\n",
    "        return 0  \n",
    "    return sum(movie[\"imdb\"] for movie in movies) / len(movies)\n",
    "average_imdb(movies)"
   ]
  },
  {
   "cell_type": "code",
   "execution_count": 7,
   "metadata": {},
   "outputs": [
    {
     "data": {
      "text/plain": [
       "6.44"
      ]
     },
     "execution_count": 7,
     "metadata": {},
     "output_type": "execute_result"
    }
   ],
   "source": [
    "def average_imdb_by_category(movies, category):\n",
    "    category_movies = get_movies_by_category(movies, category)\n",
    "    return average_imdb(category_movies)\n",
    "average_imdb_by_category(movies, \"Romance\")"
   ]
  }
 ],
 "metadata": {
  "kernelspec": {
   "display_name": "Python 3",
   "language": "python",
   "name": "python3"
  },
  "language_info": {
   "codemirror_mode": {
    "name": "ipython",
    "version": 3
   },
   "file_extension": ".py",
   "mimetype": "text/x-python",
   "name": "python",
   "nbconvert_exporter": "python",
   "pygments_lexer": "ipython3",
   "version": "3.11.7"
  }
 },
 "nbformat": 4,
 "nbformat_minor": 2
}
