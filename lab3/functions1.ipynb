{
 "cells": [
  {
   "cell_type": "code",
   "execution_count": 14,
   "metadata": {},
   "outputs": [
    {
     "name": "stdout",
     "output_type": "stream",
     "text": [
      "100.0 grams is equal to 2834.9523099999997 ounces\n"
     ]
    }
   ],
   "source": [
    "def gramsToOunces(grams):\n",
    "    ounces = 28.3495231 * grams\n",
    "    print(f\"{grams} grams is equal to {ounces} ounces\")\n",
    "grams = float(input(\"Enter your grams: \"))\n",
    "gramsToOunces(grams)"
   ]
  },
  {
   "cell_type": "code",
   "execution_count": 18,
   "metadata": {},
   "outputs": [
    {
     "name": "stdout",
     "output_type": "stream",
     "text": [
      "100.0 fahrenheit temperature is equivalent to 37.78 centigrase temperature.\n"
     ]
    }
   ],
   "source": [
    "def Fahrenhit_To_C(F):\n",
    "    C = (5/9)*(F-32)\n",
    "    print(f\"{F} fahrenheit temperature is equivalent to {C:.2f} centigrase temperature.\")\n",
    "F = float(input(\"Enter your temp in F: \"))\n",
    "Fahrenhit_To_C(F)"
   ]
  },
  {
   "cell_type": "code",
   "execution_count": 19,
   "metadata": {},
   "outputs": [
    {
     "name": "stdout",
     "output_type": "stream",
     "text": [
      "12.0 rabbits and 23.0 chickens.\n"
     ]
    }
   ],
   "source": [
    "def solve(numheads,numlegs):\n",
    "    \"\"\"x + y = numheads\n",
    "    2*x + 4*y = numlegs\n",
    "    \n",
    "    2*x + 2*y = 2*numheads\n",
    "    2*x + 4*y = numlegs \n",
    "    \n",
    "    2*y = numlegs - 2*numheads\"\"\"\n",
    "    \n",
    "    y = (numlegs - 2*numheads)/2\n",
    "    x = numheads - y\n",
    "    print(f\"{y} rabbits and {x} chickens.\")\n",
    "numheads = 35\n",
    "numlegs = 94\n",
    "solve(35,94)\n",
    "    "
   ]
  },
  {
   "cell_type": "code",
   "execution_count": 24,
   "metadata": {},
   "outputs": [
    {
     "name": "stdout",
     "output_type": "stream",
     "text": [
      "[3, 281, 5, 7, 11]\n"
     ]
    }
   ],
   "source": [
    "import math\n",
    "\n",
    "def filter_prime(*numbers):\n",
    "    ListOfprimes=[]\n",
    "    for number in numbers:\n",
    "        if number < 2:\n",
    "            continue\n",
    "        isPrime= True\n",
    "        for i in range(2,int(math.sqrt(number))+1):\n",
    "            if number % i == 0 :\n",
    "                isPrime=False\n",
    "        if isPrime:\n",
    "            ListOfprimes.append(number)\n",
    "    print(ListOfprimes)    \n",
    "input_numbers = map(int, input(\"Write the numbers with spaces: \").split())\n",
    "filter_prime(*input_numbers)"
   ]
  },
  {
   "cell_type": "code",
   "execution_count": 3,
   "metadata": {},
   "outputs": [
    {
     "name": "stdout",
     "output_type": "stream",
     "text": [
      "ready are We\n"
     ]
    }
   ],
   "source": [
    "def print_reverse(sentence):\n",
    "    words=sentence.split()\n",
    "    \n",
    "    reversed_words=[]\n",
    "    for word in range(len(words)-1, -1 , -1):\n",
    "        reversed_words.append(words[word])\n",
    "    \n",
    "    reversed_sentence=' '.join(reversed_words)\n",
    "    print(reversed_sentence)\n",
    "user_input = input()\n",
    "print_reverse(user_input)\n",
    "    \n",
    "        \n",
    "    "
   ]
  },
  {
   "cell_type": "code",
   "execution_count": 7,
   "metadata": {},
   "outputs": [
    {
     "name": "stdout",
     "output_type": "stream",
     "text": [
      "True\n"
     ]
    }
   ],
   "source": [
    "def has_33():\n",
    "    inputforNums = input()\n",
    "    numbers=list(map(int, inputforNums.split()))\n",
    "    for i in range(len(numbers)-1):\n",
    "        if numbers[i]==3 and numbers[i+1]==3:\n",
    "            return True\n",
    "    return False\n",
    "    \n",
    "if has_33():\n",
    "    print(\"True\")\n",
    "else:\n",
    "    print(\"False\")"
   ]
  },
  {
   "cell_type": "code",
   "execution_count": 8,
   "metadata": {},
   "outputs": [
    {
     "name": "stdout",
     "output_type": "stream",
     "text": [
      "True\n",
      "False\n",
      "False\n"
     ]
    }
   ],
   "source": [
    "def has_33(nums):\n",
    "    for i in range(len(nums)-1):\n",
    "        if nums[i]==3 and nums[i+1]==3:\n",
    "            return True\n",
    "    return False\n",
    "print(has_33([1, 3, 3]))\n",
    "print(has_33([1, 3, 1 ,3 ]))\n",
    "print(has_33([3, 1, 3 ]))\n",
    "    "
   ]
  },
  {
   "cell_type": "code",
   "execution_count": 13,
   "metadata": {},
   "outputs": [
    {
     "name": "stdout",
     "output_type": "stream",
     "text": [
      "True, the list has 007 in order\n"
     ]
    }
   ],
   "source": [
    "def spy_game():\n",
    "    user_input=input()\n",
    "    numbers=list(map(int,user_input.split()))\n",
    "    spy_pattern = [0,0,7]\n",
    "    index = 0\n",
    "    for num in numbers:\n",
    "        if num == spy_pattern[index]:\n",
    "            index += 1\n",
    "        if index == 3:\n",
    "            return True\n",
    "    return False\n",
    "if spy_game():\n",
    "    print(\"True, the list has 007 in order\")\n",
    "else :\n",
    "    print(\"False\")"
   ]
  },
  {
   "cell_type": "code",
   "execution_count": 14,
   "metadata": {},
   "outputs": [
    {
     "name": "stdout",
     "output_type": "stream",
     "text": [
      "True\n",
      "True\n",
      "False\n"
     ]
    }
   ],
   "source": [
    "def spy_game(numbers):\n",
    "    spy_pattern = [0,0,7]\n",
    "    index = 0\n",
    "    for num in numbers:\n",
    "        if num == spy_pattern[index]:\n",
    "            index += 1\n",
    "        if index == 3:\n",
    "            return True\n",
    "    return False\n",
    "print(spy_game([1,2,4,0,0,7,5]))\n",
    "print(spy_game([1,0,2,4,0,5,7]))\n",
    "print(spy_game([1,7,2,0,4,5,0]))"
   ]
  },
  {
   "cell_type": "code",
   "execution_count": 16,
   "metadata": {},
   "outputs": [
    {
     "name": "stdout",
     "output_type": "stream",
     "text": [
      "3053.628059289279\n"
     ]
    }
   ],
   "source": [
    "import math\n",
    "\n",
    "def volumeOfsphere(radius):\n",
    "    V = float((4/3)*math.pow(radius,3)*math.pi)\n",
    "    return V\n",
    "\n",
    "radius = int(input())\n",
    "print(volumeOfsphere(radius))"
   ]
  },
  {
   "cell_type": "code",
   "execution_count": 18,
   "metadata": {},
   "outputs": [
    {
     "name": "stdout",
     "output_type": "stream",
     "text": [
      "['1', '2', '17', '52', '4']\n",
      "[1, 2, 3, 4, 5, 6, 7]\n"
     ]
    }
   ],
   "source": [
    "def uniqueElemets(numbers):\n",
    "    uniqueElList=[]\n",
    "    for i in range(len(numbers)-1):\n",
    "        if numbers[i] not in uniqueElList:\n",
    "            uniqueElList.append(numbers[i])\n",
    "            \n",
    "    return uniqueElList\n",
    "mylist = input(\"enter your elements separated by space: \").split()\n",
    "print(uniqueElemets(mylist))\n",
    "print(uniqueElemets([1,2,3,4,5,6,7, 6 ,3,4,1]))\n",
    "        "
   ]
  },
  {
   "cell_type": "code",
   "execution_count": 27,
   "metadata": {},
   "outputs": [
    {
     "name": "stdout",
     "output_type": "stream",
     "text": [
      "True,it is palindrome.\n"
     ]
    }
   ],
   "source": [
    "def is_it_Palindrome(parametr):\n",
    "    parametr1=\"\"\n",
    "    for i in range(len(parametr)-1,-1,-1):\n",
    "        parametr1 += parametr[i]\n",
    "    if parametr == parametr1:\n",
    "        print(\"True,it is palindrome.\")\n",
    "    else :\n",
    "        print (\"False, it is not palindrome.\")\n",
    "a = input()\n",
    "is_it_Palindrome(a)\n",
    "        "
   ]
  },
  {
   "cell_type": "code",
   "execution_count": 29,
   "metadata": {},
   "outputs": [
    {
     "name": "stdout",
     "output_type": "stream",
     "text": [
      "****\n",
      "*********\n",
      "*******\n"
     ]
    }
   ],
   "source": [
    "def histogram(lst):\n",
    "    for num in lst :\n",
    "        print('*' * num)\n",
    "histogram([4,9,7])"
   ]
  },
  {
   "cell_type": "code",
   "execution_count": 35,
   "metadata": {},
   "outputs": [
    {
     "name": "stdout",
     "output_type": "stream",
     "text": [
      "Hello! What is your name?\n",
      "Well, Bekarys, I am thinking of a number between 1 and 20.\n",
      "Take a guess.\n",
      "Your guess is too low.\n",
      "Take a guess.\n",
      "Your guess is too high.\n",
      "Take a guess.\n",
      "Your guess is too low.\n",
      "Take a guess.\n",
      "Your guess is too low.\n",
      "Take a guess.\n",
      "Good job, Bekarys! You guessed my number in 5 guesses!\n"
     ]
    }
   ],
   "source": [
    "import random\n",
    "def GuessTheNumber():\n",
    "    print(\"Hello! What is your name?\")\n",
    "    name = input()\n",
    "    secret_number=random.randint(1,20)\n",
    "    print(f\"Well, {name}, I am thinking of a number between 1 and 20.\")\n",
    "    attempts = 0\n",
    "    while True:\n",
    "        print(\"Take a guess.\")\n",
    "        guess = input()\n",
    "        if guess.isdigit():\n",
    "            guess=int(guess)\n",
    "        else:\n",
    "            print(\"Please enter a valid number.\")\n",
    "            continue\n",
    "        attempts += 1\n",
    "        \n",
    "        if guess > secret_number:\n",
    "            print(\"Your guess is too high.\")\n",
    "        elif guess < secret_number:\n",
    "            print(\"Your guess is too low.\")\n",
    "        else:\n",
    "            print(f\"Good job, {name}! You guessed my number in {attempts} guesses!\")\n",
    "            break\n",
    "GuessTheNumber()      \n",
    "    "
   ]
  },
  {
   "cell_type": "code",
   "execution_count": 1,
   "metadata": {},
   "outputs": [
    {
     "name": "stdout",
     "output_type": "stream",
     "text": [
      "abc\n",
      "acb\n",
      "bac\n",
      "bca\n",
      "cab\n",
      "cba\n"
     ]
    }
   ],
   "source": [
    "def permute(s, chosen=\"\"):\n",
    "    if len(s) == 0:\n",
    "        print(chosen)  \n",
    "    else:\n",
    "        for i in range(len(s)):\n",
    "            char = s[i]\n",
    "            remaining = s[:i] + s[i+1:] \n",
    "            permute(remaining, chosen + char)\n",
    "\n",
    "user_input = input(\"Enter a string: \")\n",
    "permute(user_input)"
   ]
  }
 ],
 "metadata": {
  "kernelspec": {
   "display_name": "Python 3",
   "language": "python",
   "name": "python3"
  },
  "language_info": {
   "codemirror_mode": {
    "name": "ipython",
    "version": 3
   },
   "file_extension": ".py",
   "mimetype": "text/x-python",
   "name": "python",
   "nbconvert_exporter": "python",
   "pygments_lexer": "ipython3",
   "version": "3.11.7"
  }
 },
 "nbformat": 4,
 "nbformat_minor": 2
}
