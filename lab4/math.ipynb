{
 "cells": [
  {
   "cell_type": "code",
   "execution_count": 6,
   "metadata": {},
   "outputs": [
    {
     "name": "stdout",
     "output_type": "stream",
     "text": [
      "Input degree: 15\n",
      "Output radian: 0.2617993877991494\n"
     ]
    }
   ],
   "source": [
    "import math\n",
    "\n",
    "degree = int(input())\n",
    "\n",
    "print(f\"Input degree: {degree}\")\n",
    "\n",
    "print(f\"Output radian: {(math.pi/180)*degree}\")"
   ]
  },
  {
   "cell_type": "code",
   "execution_count": 8,
   "metadata": {},
   "outputs": [
    {
     "name": "stdout",
     "output_type": "stream",
     "text": [
      "Height: 5\n",
      "Base, first value: 5\n",
      "Base, second value: 6\n",
      "27.5\n"
     ]
    }
   ],
   "source": [
    "import math\n",
    "\n",
    "height = int(input())\n",
    "print(f\"Height: {height }\")\n",
    "base1 = int(input())\n",
    "print(f\"Base, first value: {base1 }\")\n",
    "base2 = int(input())\n",
    "print(f\"Base, second value: {base2 }\")\n",
    "\n",
    "print(float((base1 + base2)*height/2))"
   ]
  },
  {
   "cell_type": "code",
   "execution_count": 2,
   "metadata": {},
   "outputs": [
    {
     "name": "stdout",
     "output_type": "stream",
     "text": [
      "Input number of sides: 4\n",
      "Input the length of a side: 25\n",
      "625\n"
     ]
    }
   ],
   "source": [
    "import math \n",
    "\n",
    "number_of_sides = int(input()) \n",
    "print(f\"Input number of sides: {number_of_sides }\")\n",
    "length_of_side = int(input())\n",
    "print(f\"Input the length of a side: {length_of_side }\")\n",
    "\n",
    "print( round(number_of_sides * length_of_side**2/4*math.tan(math.pi/number_of_sides)))"
   ]
  },
  {
   "cell_type": "code",
   "execution_count": 10,
   "metadata": {},
   "outputs": [
    {
     "name": "stdout",
     "output_type": "stream",
     "text": [
      "Length of base: 5\n",
      "Height of parallelogram: 6\n",
      "30\n"
     ]
    }
   ],
   "source": [
    "import math\n",
    "\n",
    "Length_of_base = int(input())\n",
    "print(f\"Length of base: {Length_of_base }\")\n",
    "Height_of_parallelogram = int(input())\n",
    "print(f\"Height of parallelogram: {Height_of_parallelogram }\")\n",
    "\n",
    "print(Length_of_base * Height_of_parallelogram)"
   ]
  }
 ],
 "metadata": {
  "kernelspec": {
   "display_name": "Python 3",
   "language": "python",
   "name": "python3"
  },
  "language_info": {
   "codemirror_mode": {
    "name": "ipython",
    "version": 3
   },
   "file_extension": ".py",
   "mimetype": "text/x-python",
   "name": "python",
   "nbconvert_exporter": "python",
   "pygments_lexer": "ipython3",
   "version": "3.11.7"
  }
 },
 "nbformat": 4,
 "nbformat_minor": 2
}
