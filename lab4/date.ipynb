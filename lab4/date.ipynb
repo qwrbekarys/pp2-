{
 "cells": [
  {
   "cell_type": "code",
   "execution_count": 1,
   "metadata": {},
   "outputs": [
    {
     "name": "stdout",
     "output_type": "stream",
     "text": [
      "current date:  2025-02-19\n",
      "date 5 days ago:  2025-02-14\n"
     ]
    }
   ],
   "source": [
    "from datetime import datetime, timedelta\n",
    "\n",
    "current_date = datetime.today()\n",
    "\n",
    "new_date = current_date - timedelta(days=5)\n",
    "\n",
    "print(\"current date: \",current_date.strftime(\"%Y-%m-%d\"))\n",
    "print(\"date 5 days ago: \", new_date.strftime(\"%Y-%m-%d\"))"
   ]
  },
  {
   "cell_type": "code",
   "execution_count": 2,
   "metadata": {},
   "outputs": [
    {
     "name": "stdout",
     "output_type": "stream",
     "text": [
      "Yesterday: 2025-02-18\n",
      "Today: 2025-02-19\n",
      "Tomorrow: 2025-02-20\n"
     ]
    }
   ],
   "source": [
    "from datetime import datetime, timedelta\n",
    "\n",
    "today = datetime.today()\n",
    "yesterday = today - timedelta(days=1)\n",
    "tomorrow = today + timedelta(days=1)\n",
    "\n",
    "print(\"Yesterday:\", yesterday.strftime(\"%Y-%m-%d\"))\n",
    "print(\"Today:\", today.strftime(\"%Y-%m-%d\"))\n",
    "print(\"Tomorrow:\", tomorrow.strftime(\"%Y-%m-%d\"))\n"
   ]
  },
  {
   "cell_type": "code",
   "execution_count": 3,
   "metadata": {},
   "outputs": [
    {
     "name": "stdout",
     "output_type": "stream",
     "text": [
      "Current datetime: 2025-02-19 17:55:19.106496\n",
      "Datetime without microseconds: 2025-02-19 17:55:19\n"
     ]
    }
   ],
   "source": [
    "from datetime import datetime\n",
    "\n",
    "current_datetime = datetime.now()\n",
    "\n",
    "datetime_without_microseconds = current_datetime.replace(microsecond=0)\n",
    "\n",
    "print(\"Current datetime:\", current_datetime)\n",
    "print(\"Datetime without microseconds:\", datetime_without_microseconds)\n"
   ]
  },
  {
   "cell_type": "code",
   "execution_count": 4,
   "metadata": {},
   "outputs": [
    {
     "name": "stdout",
     "output_type": "stream",
     "text": [
      "first date :  2025-02-19 14:00:00\n",
      "second date : 2025-02-19 15:00:00\n",
      "The difference between the two dates in seconds is: 3600.0\n"
     ]
    }
   ],
   "source": [
    "from datetime import datetime\n",
    "\n",
    "date_str1 = input(\"Enter the first date (YYYY-MM-DD HH:MM:SS): \")\n",
    "date_str2 = input(\"Enter the second date (YYYY-MM-DD HH:MM:SS): \")\n",
    "\n",
    "date1 = datetime.strptime(date_str1, \"%Y-%m-%d %H:%M:%S\")\n",
    "date2 = datetime.strptime(date_str2, \"%Y-%m-%d %H:%M:%S\")\n",
    "\n",
    "difference = date2 - date1\n",
    "\n",
    "difference_in_seconds = difference.total_seconds()\n",
    "\n",
    "print(f\"first date :  {date1}\")\n",
    "print(f\"second date : {date2}\")\n",
    "print(f\"The difference between the two dates in seconds is: {difference_in_seconds}\")\n"
   ]
  }
 ],
 "metadata": {
  "kernelspec": {
   "display_name": "Python 3",
   "language": "python",
   "name": "python3"
  },
  "language_info": {
   "codemirror_mode": {
    "name": "ipython",
    "version": 3
   },
   "file_extension": ".py",
   "mimetype": "text/x-python",
   "name": "python",
   "nbconvert_exporter": "python",
   "pygments_lexer": "ipython3",
   "version": "3.11.7"
  }
 },
 "nbformat": 4,
 "nbformat_minor": 2
}
